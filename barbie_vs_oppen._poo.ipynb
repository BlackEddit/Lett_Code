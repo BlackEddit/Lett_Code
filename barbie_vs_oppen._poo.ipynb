{
 "cells": [
  {
   "cell_type": "code",
   "execution_count": 3,
   "metadata": {},
   "outputs": [],
   "source": [
    "import pandas as pd"
   ]
  },
  {
   "cell_type": "markdown",
   "metadata": {},
   "source": []
  },
  {
   "cell_type": "code",
   "execution_count": 101,
   "metadata": {},
   "outputs": [],
   "source": [
    "class AnalizadorDeDatos:\n",
    "    def __init__(self, file_name):\n",
    "        self.file_name = file_name\n",
    "        self.data =  None # Por que iniciamos un data con nada?\n",
    "    \n",
    "    def open_file(self):\n",
    "        try:\n",
    "            if self.file_name.endswith('.csv'):\n",
    "                self.data = pd.read_csv(self.file_name)\n",
    "                print(f\"Your file was oppend sucesfully\")\n",
    "            elif self.file_name.endswith('.xls') or self.file_name.endswith('.xlsx'):\n",
    "                self.data = pd.read_excel(self.file_name)\n",
    "                print(f'Your file was oppened sucessfully')\n",
    "            else:\n",
    "                print(f\"This file is not valid, please introduce one of the next: csv / .xlsx / .xls \")\n",
    "        except Exception as e:\n",
    "            print(f'Ocurrio un eror al abrir el erchivo, codigo de error : {e}')\n",
    "    \n",
    "    def show_rows(self, rows = 10):\n",
    "        if self.data is not None:\n",
    "            return self.data.head(rows)\n",
    "        else:\n",
    "            print(f'Is not file upload yet')\n",
    "    \n",
    "    def show_info(self):\n",
    "        if self.data is not None:\n",
    "            return self.data.info()\n",
    "        else:\n",
    "            print(f'Is not file upload yet')\n",
    "    \n",
    "    def show_describe(self):\n",
    "        if self.data is not None:\n",
    "            return self.data.describe()\n",
    "        else:\n",
    "            print(f\"There is not a file open yet\")\n",
    "    \n",
    "    def extraer_calificacion(self, columna): #<- columna sera el nombre de la columna que queremos revisar\n",
    "        #Primero nos aseguraremos que el data-frame tiene datos y que la comlumna existe\n",
    "        if self.data is not None and columna in self.data.columns:\n",
    "            \n",
    "            # Crear nuevas columnas para almacenar la calificación extraída y su valor numérico\n",
    "            columna_calificacion = f'{columna}_calificación'\n",
    "            columna_calificacion_num = f'{columna}_calificación_num'\n",
    "            \n",
    "            self.data[columna_calificacion] = self.data[columna].str.extract(r'(\\d+/10)')\n",
    "            self.data[columna_calificacion_num] = self.data[columna_calificacion].str.split('/').str[0].astype(float)\n",
    "            print(f\"Calificación extraída con éxito de la columna {columna}.\")\n",
    "        else:\n",
    "            print(f\"Asegúrate de que el archivo haya sido cargado y contenga una columna '{columna}'.\")\n",
    "    \n",
    "    def mostrar_nombres_columnas(self):\n",
    "        cols = []\n",
    "        if self.data is not None:\n",
    "            print(\"Nombres de las columnas:\")\n",
    "            for col in self.data.columns:\n",
    "                print(col)\n",
    "                print('///')\n",
    "                cols.append(col)\n",
    "        else:\n",
    "            print(\"No hay datos cargados.\")   \n",
    "        return cols\n",
    "    \n",
    "    def renombrar_columnas(self, nombres_actuales, nuevos_nombres):\n",
    "        \n",
    "    \n",
    "    \n",
    "        if self.data is not None:\n",
    "            if len(nombres_actuales) != len(nuevos_nombres):\n",
    "                print(\"Las listas de nombres actuales y nuevos nombres deben tener la misma longitud.\")\n",
    "                return\n",
    "            \n",
    "            mapeo_nombres = dict(zip(nombres_actuales, nuevos_nombres))\n",
    "            \n",
    "            self.data.rename(columns=mapeo_nombres, inplace=True)\n",
    "            print(\"Las columnas han sido renombradas con éxito.\")\n",
    "        else:\n",
    "            print(\"Asegúrate de que el archivo haya sido cargado.\")\n",
    "\n",
    "    def extraer_primer_digito_calificacion(self, columna_origen, nueva_columna):\n",
    "        if self.data is not None and columna_origen in self.data.columns:\n",
    "            # Extraer el primer dígito antes del '/'.\n",
    "            self.data[nueva_columna] = self.data[columna_origen].str.extract(r'(\\d)/')\n",
    "            \n",
    "            # Llenar los valores NaN con \"0\". sasa\n",
    "            self.data[nueva_columna].fillna(\"0\", inplace=True)\n",
    "            \n",
    "            # Eliminar la columna original.\n",
    "            self.data.drop(columns=columna_origen, inplace=True)\n",
    "            \n",
    "            print(f\"Primer dígito de calificación extraído con éxito en la columna '{nueva_columna}'.\")\n",
    "        else:\n",
    "            print(\"Asegúrate de que el archivo haya sido cargado y contenga la columna especificada.\")\n",
    "\n",
    "\n",
    "#Es diferente usar entre !=  y is not:\n",
    "#!= compara los valores de dos objetos.\n",
    "#is y is not verifican la identidad de los objetos, es decir, si dos variables apuntan al mismo objeto en memoria.\n"
   ]
  },
  {
   "cell_type": "code",
   "execution_count": 102,
   "metadata": {},
   "outputs": [
    {
     "name": "stdout",
     "output_type": "stream",
     "text": [
      "Your file was oppend sucesfully\n",
      "Your file was oppend sucesfully\n"
     ]
    }
   ],
   "source": [
    "Barbie_file = AnalizadorDeDatos('imdb_barbie_Uncleaned.csv')\n",
    "Oppenhim_File = AnalizadorDeDatos('imdb_oppenhimmer_Uncleaned.csv')\n",
    "\n",
    "Barbie_file.open_file()\n",
    "Oppenhim_File.open_file()\n"
   ]
  },
  {
   "cell_type": "markdown",
   "metadata": {},
   "source": [
    "La calificación (\"6/10\").\n",
    "El título de la revisión (\"Creative but preachy and confusing\").\n",
    "El nombre del revisor (\"Imshortok0623\").\n",
    "La fecha de la revisión (\"July 2023\").\n",
    "El contenido detallado de la revisión.\n",
    "La utilidad de la revisión (\"1,007 out of 1,363 found this helpful\")."
   ]
  },
  {
   "cell_type": "code",
   "execution_count": 103,
   "metadata": {},
   "outputs": [
    {
     "name": "stdout",
     "output_type": "stream",
     "text": [
      "<class 'pandas.core.frame.DataFrame'>\n",
      "RangeIndex: 13097 entries, 0 to 13096\n",
      "Data columns (total 1 columns):\n",
      " #   Column                                                                                                                                                                                                                                                                                                                                                                                                                                                                                                                                                                                                                                                                                                                                                                                                                                                                                                                                                                                                                                                                                                                                                                                                                                                                                                                                                                                                                       Non-Null Count  Dtype \n",
      "---  ------                                                                                                                                                                                                                                                                                                                                                                                                                                                                                                                                                                                                                                                                                                                                                                                                                                                                                                                                                                                                                                                                                                                                                                                                                                                                                                                                                                                                                       --------------  ----- \n",
      " 0   6/10\n",
      "Creative but preachy and confusing\n",
      "Imshortok0623 July 2023\n",
      "I'm just going to get straight to the point: I liked some aspects of this movie and disliked other parts. Cinematography: awesome. Choreographed musical numbers: hilarious. Comedy: good. Margot Robbie: great. Ryan Gosling: awesome, and arguably the best part of the movie. The scenery and props really did help create the world. The storyline started off very intriguing. However, when the movie got to the meat of the plot and the central conflict, its message became confusing. It's like they wanted to make Ken the bad guy yet also sympathetic, which is not impossible or unheard of, but the way the writers did this was ineffective. Also, the resolution didn't make sense based on the message and events that led up to it. Lastly, I really hate it when movies try to empower women by dumbing down the men. I get that in a Barbie world, Ken is an afterthought, but in the real world all men were also dumb. They also treated masculine qualities as \"evil.\" I hate stereotyping people, men included, and it's like all men ride horses and have fragile egos and drink \"brewskies.\" And for goodness sake, if I had a dollar for every time the movie said \"patriarchy\", I'd be rich. So, overall, I give this movie a 6/10.\n",
      "1,007 out of 1,363 found this helpful. Was this review helpful? Sign in to vote.\n",
      "Permalink  13097 non-null  object\n",
      "dtypes: object(1)\n",
      "memory usage: 102.4+ KB\n"
     ]
    }
   ],
   "source": [
    "#Barbie_file.show_rows(3)\n",
    "#Barbie_file.show_describe()\n",
    "Barbie_file.show_info()\n",
    "#Barbie_file.show_rows(4)\n",
    "\n"
   ]
  },
  {
   "cell_type": "code",
   "execution_count": 104,
   "metadata": {},
   "outputs": [
    {
     "name": "stdout",
     "output_type": "stream",
     "text": [
      "Nombres de las columnas:\n",
      "6/10\n",
      "Creative but preachy and confusing\n",
      "Imshortok0623 July 2023\n",
      "I'm just going to get straight to the point: I liked some aspects of this movie and disliked other parts. Cinematography: awesome. Choreographed musical numbers: hilarious. Comedy: good. Margot Robbie: great. Ryan Gosling: awesome, and arguably the best part of the movie. The scenery and props really did help create the world. The storyline started off very intriguing. However, when the movie got to the meat of the plot and the central conflict, its message became confusing. It's like they wanted to make Ken the bad guy yet also sympathetic, which is not impossible or unheard of, but the way the writers did this was ineffective. Also, the resolution didn't make sense based on the message and events that led up to it. Lastly, I really hate it when movies try to empower women by dumbing down the men. I get that in a Barbie world, Ken is an afterthought, but in the real world all men were also dumb. They also treated masculine qualities as \"evil.\" I hate stereotyping people, men included, and it's like all men ride horses and have fragile egos and drink \"brewskies.\" And for goodness sake, if I had a dollar for every time the movie said \"patriarchy\", I'd be rich. So, overall, I give this movie a 6/10.\n",
      "1,007 out of 1,363 found this helpful. Was this review helpful? Sign in to vote.\n",
      "Permalink\n",
      "///\n",
      "Las columnas han sido renombradas con éxito.\n"
     ]
    }
   ],
   "source": [
    "name_column = Barbie_file.mostrar_nombres_columnas()\n",
    "new_names = ['Clasificacion 6/10']\n",
    "Barbie_file.renombrar_columnas(name_column, new_names)"
   ]
  },
  {
   "cell_type": "code",
   "execution_count": 105,
   "metadata": {},
   "outputs": [
    {
     "name": "stdout",
     "output_type": "stream",
     "text": [
      "<class 'pandas.core.frame.DataFrame'>\n",
      "RangeIndex: 13097 entries, 0 to 13096\n",
      "Data columns (total 1 columns):\n",
      " #   Column              Non-Null Count  Dtype \n",
      "---  ------              --------------  ----- \n",
      " 0   Clasificacion 6/10  13097 non-null  object\n",
      "dtypes: object(1)\n",
      "memory usage: 102.4+ KB\n"
     ]
    }
   ],
   "source": [
    "Barbie_file.show_info()"
   ]
  },
  {
   "cell_type": "code",
   "execution_count": 106,
   "metadata": {},
   "outputs": [
    {
     "name": "stdout",
     "output_type": "stream",
     "text": [
      "Nombres de las columnas:\n",
      "Clasificacion 6/10\n",
      "///\n"
     ]
    },
    {
     "data": {
      "text/plain": [
       "['Clasificacion 6/10']"
      ]
     },
     "execution_count": 106,
     "metadata": {},
     "output_type": "execute_result"
    }
   ],
   "source": [
    "#Barbie_file.show_describe()\n",
    "Barbie_file.show_rows(4)\n",
    "Barbie_file.mostrar_nombres_columnas()"
   ]
  },
  {
   "cell_type": "code",
   "execution_count": 107,
   "metadata": {},
   "outputs": [
    {
     "name": "stdout",
     "output_type": "stream",
     "text": [
      "Primer dígito de calificación extraído con éxito en la columna 'Calificacion_1_Digito'.\n"
     ]
    }
   ],
   "source": [
    "Barbie_file.extraer_primer_digito_calificacion('Clasificacion 6/10', 'Calificacion_1_Digito')"
   ]
  },
  {
   "cell_type": "code",
   "execution_count": 108,
   "metadata": {},
   "outputs": [
    {
     "data": {
      "text/html": [
       "<div>\n",
       "<style scoped>\n",
       "    .dataframe tbody tr th:only-of-type {\n",
       "        vertical-align: middle;\n",
       "    }\n",
       "\n",
       "    .dataframe tbody tr th {\n",
       "        vertical-align: top;\n",
       "    }\n",
       "\n",
       "    .dataframe thead th {\n",
       "        text-align: right;\n",
       "    }\n",
       "</style>\n",
       "<table border=\"1\" class=\"dataframe\">\n",
       "  <thead>\n",
       "    <tr style=\"text-align: right;\">\n",
       "      <th></th>\n",
       "      <th>Calificacion_1_Digito</th>\n",
       "    </tr>\n",
       "  </thead>\n",
       "  <tbody>\n",
       "    <tr>\n",
       "      <th>0</th>\n",
       "      <td>6</td>\n",
       "    </tr>\n",
       "    <tr>\n",
       "      <th>1</th>\n",
       "      <td>6</td>\n",
       "    </tr>\n",
       "    <tr>\n",
       "      <th>2</th>\n",
       "      <td>8</td>\n",
       "    </tr>\n",
       "    <tr>\n",
       "      <th>3</th>\n",
       "      <td>9</td>\n",
       "    </tr>\n",
       "    <tr>\n",
       "      <th>4</th>\n",
       "      <td>7</td>\n",
       "    </tr>\n",
       "    <tr>\n",
       "      <th>5</th>\n",
       "      <td>8</td>\n",
       "    </tr>\n",
       "    <tr>\n",
       "      <th>6</th>\n",
       "      <td>6</td>\n",
       "    </tr>\n",
       "    <tr>\n",
       "      <th>7</th>\n",
       "      <td>8</td>\n",
       "    </tr>\n",
       "    <tr>\n",
       "      <th>8</th>\n",
       "      <td>6</td>\n",
       "    </tr>\n",
       "    <tr>\n",
       "      <th>9</th>\n",
       "      <td>8</td>\n",
       "    </tr>\n",
       "  </tbody>\n",
       "</table>\n",
       "</div>"
      ],
      "text/plain": [
       "  Calificacion_1_Digito\n",
       "0                     6\n",
       "1                     6\n",
       "2                     8\n",
       "3                     9\n",
       "4                     7\n",
       "5                     8\n",
       "6                     6\n",
       "7                     8\n",
       "8                     6\n",
       "9                     8"
      ]
     },
     "execution_count": 108,
     "metadata": {},
     "output_type": "execute_result"
    }
   ],
   "source": [
    "Barbie_file.show_rows(10)\n",
    "#se mamo"
   ]
  }
 ],
 "metadata": {
  "kernelspec": {
   "display_name": "Python 3",
   "language": "python",
   "name": "python3"
  },
  "language_info": {
   "codemirror_mode": {
    "name": "ipython",
    "version": 3
   },
   "file_extension": ".py",
   "mimetype": "text/x-python",
   "name": "python",
   "nbconvert_exporter": "python",
   "pygments_lexer": "ipython3",
   "version": "3.11.2"
  },
  "orig_nbformat": 4
 },
 "nbformat": 4,
 "nbformat_minor": 2
}
